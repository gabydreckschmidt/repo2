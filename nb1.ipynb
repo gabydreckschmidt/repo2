{
 "cells": [
  {
   "cell_type": "code",
   "execution_count": 2,
   "id": "angry-tamil",
   "metadata": {
    "id": "e02a4ddf-e334-48b0-aa4b-311a71fc8121",
    "tags": []
   },
   "outputs": [
    {
     "name": "stdout",
     "output_type": "stream",
     "text": [
      "Hallo\n",
      "This is a small file\n"
     ]
    }
   ],
   "source": [
    "print(\"Hallo\")\n",
    "print(\"This is a small file\")"
   ]
  },
  {
   "cell_type": "code",
   "execution_count": null,
   "id": "legal-queensland",
   "metadata": {
    "id": "bf5cac20-2a63-4814-99fc-62ed6f67c996"
   },
   "outputs": [],
   "source": []
  }
 ],
 "metadata": {
  "kernelspec": {
   "display_name": "Python 3.8",
   "language": "python",
   "name": "python3"
  },
  "language_info": {
   "codemirror_mode": {
    "name": "ipython",
    "version": 3
   },
   "file_extension": ".py",
   "mimetype": "text/x-python",
   "name": "python",
   "nbconvert_exporter": "python",
   "pygments_lexer": "ipython3",
   "version": "3.8.10"
  }
 },
 "nbformat": 4,
 "nbformat_minor": 5
}
