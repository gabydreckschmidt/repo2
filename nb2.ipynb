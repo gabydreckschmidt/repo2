{
 "cells": [
  {
   "cell_type": "code",
   "execution_count": 1,
   "id": "alternative-cattle",
   "metadata": {
    "id": "fe769a6c-98e4-46e1-a23d-c2c7d1159916",
    "tags": []
   },
   "outputs": [
    {
     "name": "stdout",
     "output_type": "stream",
     "text": [
      "This is my second file\n"
     ]
    }
   ],
   "source": [
    "print(\"This is my second file\")"
   ]
  },
  {
   "cell_type": "code",
   "execution_count": null,
   "id": "sunset-skirt",
   "metadata": {
    "id": "aeee1646-4b4b-45e1-a20b-8d19e89f2fe2"
   },
   "outputs": [],
   "source": []
  }
 ],
 "metadata": {
  "kernelspec": {
   "display_name": "Python 3.8",
   "language": "python",
   "name": "python3"
  },
  "language_info": {
   "codemirror_mode": {
    "name": "ipython",
    "version": 3
   },
   "file_extension": ".py",
   "mimetype": "text/x-python",
   "name": "python",
   "nbconvert_exporter": "python",
   "pygments_lexer": "ipython3",
   "version": "3.8.10"
  }
 },
 "nbformat": 4,
 "nbformat_minor": 5
}
